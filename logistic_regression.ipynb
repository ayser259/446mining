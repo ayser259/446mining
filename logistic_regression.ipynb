{
 "cells": [
  {
   "cell_type": "code",
   "execution_count": 1,
   "metadata": {
    "collapsed": true
   },
   "outputs": [],
   "source": [
    "# import required libraries\n",
    "import pandas as pd\n",
    "import numpy as np\n",
    "from sklearn import metrics\n",
    "from sklearn.linear_model import LogisticRegression\n",
    "from sklearn.model_selection import KFold, cross_val_score"
   ]
  },
  {
   "cell_type": "code",
   "execution_count": 2,
   "metadata": {},
   "outputs": [
    {
     "name": "stdout",
     "output_type": "stream",
     "text": [
      "   extra_hours  grade attend_class letter_grade\n",
      "0           40   42.6           No            F\n",
      "1           40   56.8          Yes            E\n",
      "2           60   68.0          Yes            D\n",
      "3           70   60.0           No            D\n",
      "4           80   69.5           No            C\n",
      "5           90   88.1          Yes            B\n",
      "6          100   80.4           No            B\n",
      "7          110   83.3          Yes            B\n",
      "8          120   75.8           No            C\n",
      "9          120   94.7          Yes            A\n"
     ]
    }
   ],
   "source": [
    "# load data\n",
    "dataset = pd.read_csv('grades_dataset2.csv')\n",
    "print(dataset)"
   ]
  },
  {
   "cell_type": "code",
   "execution_count": 3,
   "metadata": {
    "collapsed": true
   },
   "outputs": [],
   "source": [
    "# prepare datasets to be fed in the model\n",
    "# predict attend class given extra hours and grade\n",
    "CV =  dataset.attend_class.values.reshape((len(dataset.attend_class), ))\n",
    "data = (dataset.loc[:,'extra_hours':'grade'].values).reshape((len(dataset.attend_class), 2))"
   ]
  },
  {
   "cell_type": "code",
   "execution_count": 4,
   "metadata": {
    "collapsed": true
   },
   "outputs": [],
   "source": [
    "# Create a LogisticRegression object\n",
    "LogReg = LogisticRegression()"
   ]
  },
  {
   "cell_type": "code",
   "execution_count": 5,
   "metadata": {},
   "outputs": [
    {
     "data": {
      "text/plain": [
       "LogisticRegression(C=1.0, class_weight=None, dual=False, fit_intercept=True,\n",
       "          intercept_scaling=1, max_iter=100, multi_class='ovr', n_jobs=1,\n",
       "          penalty='l2', random_state=None, solver='liblinear', tol=0.0001,\n",
       "          verbose=0, warm_start=False)"
      ]
     },
     "execution_count": 5,
     "metadata": {},
     "output_type": "execute_result"
    }
   ],
   "source": [
    "# Train the model using the training sets\n",
    "LogReg.fit(data, CV)"
   ]
  },
  {
   "cell_type": "code",
   "execution_count": 6,
   "metadata": {},
   "outputs": [
    {
     "name": "stdout",
     "output_type": "stream",
     "text": [
      "Coefficients (m): \n",
      " [[-0.05989228  0.08042383]]\n",
      "Intercept (b): \n",
      " [-0.56292288]\n"
     ]
    }
   ],
   "source": [
    "# return model output\n",
    "print('Coefficients (m): \\n', LogReg.coef_)\n",
    "print('Intercept (b): \\n', LogReg.intercept_)"
   ]
  },
  {
   "cell_type": "code",
   "execution_count": 7,
   "metadata": {},
   "outputs": [
    {
     "name": "stdout",
     "output_type": "stream",
     "text": [
      "Predictions: \n",
      " [['Yes']\n",
      " ['Yes']\n",
      " ['Yes']\n",
      " ['Yes']\n",
      " ['Yes']\n",
      " ['Yes']\n",
      " ['No']\n",
      " ['No']\n",
      " ['No']\n",
      " ['No']]\n"
     ]
    }
   ],
   "source": [
    "#predict the class for each data point in training data\n",
    "predicted = LogReg.predict(data)\n",
    "print(\"Predictions: \\n\", np.array([predicted]).T)"
   ]
  },
  {
   "cell_type": "code",
   "execution_count": 8,
   "metadata": {},
   "outputs": [
    {
     "name": "stdout",
     "output_type": "stream",
     "text": [
      "Probability of prediction: \n",
      " [[0.38522207 0.61477793]\n",
      " [0.16666366 0.83333634]\n",
      " [0.21209205 0.78790795]\n",
      " [0.4824953  0.5175047 ]\n",
      " [0.44148164 0.55851836]\n",
      " [0.24377164 0.75622836]\n",
      " [0.52150542 0.47849458]\n",
      " [0.61105961 0.38894039]\n",
      " [0.8394134  0.1605866 ]\n",
      " [0.53341501 0.46658499]]\n"
     ]
    }
   ],
   "source": [
    "# predict the probability/likelihood of the prediction\n",
    "print(\"Probability of prediction: \\n\",LogReg.predict_proba(data))"
   ]
  },
  {
   "cell_type": "code",
   "execution_count": 9,
   "metadata": {},
   "outputs": [
    {
     "name": "stdout",
     "output_type": "stream",
     "text": [
      "Accuracy score for the model: \n",
      " 0.5\n"
     ]
    }
   ],
   "source": [
    "print(\"Accuracy score for the model: \\n\", LogReg.score(data,CV))"
   ]
  },
  {
   "cell_type": "code",
   "execution_count": 10,
   "metadata": {},
   "outputs": [
    {
     "name": "stdout",
     "output_type": "stream",
     "text": [
      "[[3 2]\n",
      " [3 2]]\n"
     ]
    }
   ],
   "source": [
    "print(metrics.confusion_matrix(CV, predicted, labels=[\"Yes\",\"No\"]))"
   ]
  },
  {
   "cell_type": "code",
   "execution_count": 11,
   "metadata": {},
   "outputs": [
    {
     "name": "stdout",
     "output_type": "stream",
     "text": [
      "Accuracy of every fold in 5 fold cross validation:  [0.5 0.5 0.5 0.5 0.5]\n",
      "Mean of the 5 fold cross-validation: 0.50\n"
     ]
    }
   ],
   "source": [
    "# Calculating 5 fold cross validation results\n",
    "model = LogisticRegression()\n",
    "kf = KFold(n_splits=5)\n",
    "scores = cross_val_score(model, data, CV, cv=kf)\n",
    "print(\"Accuracy of every fold in 5 fold cross validation: \", abs(scores))\n",
    "print(\"Mean of the 5 fold cross-validation: %0.2f\" % abs(scores.mean()))"
   ]
  },
  {
   "cell_type": "code",
   "execution_count": 12,
   "metadata": {},
   "outputs": [
    {
     "name": "stdout",
     "output_type": "stream",
     "text": [
      "Does he attend class, if he gets 60 after putting 100 hours of effort?\n",
      "  ['No'] [[0.84899251 0.15100749]]\n"
     ]
    }
   ],
   "source": [
    "datapoint = np.array([100,60]).reshape(1, -1)\n",
    "print(\"Does he attend class, if he gets 60 after putting 100 hours of effort?\\n \", \n",
    "      LogReg.predict(datapoint),LogReg.predict_proba(datapoint))"
   ]
  }
 ],
 "metadata": {
  "kernelspec": {
   "display_name": "Python 3",
   "language": "python",
   "name": "python3"
  },
  "language_info": {
   "codemirror_mode": {
    "name": "ipython",
    "version": 3
   },
   "file_extension": ".py",
   "mimetype": "text/x-python",
   "name": "python",
   "nbconvert_exporter": "python",
   "pygments_lexer": "ipython3",
   "version": "3.6.3"
  }
 },
 "nbformat": 4,
 "nbformat_minor": 2
}
