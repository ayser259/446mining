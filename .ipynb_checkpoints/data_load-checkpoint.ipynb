{
 "cells": [
  {
   "cell_type": "code",
   "execution_count": 47,
   "metadata": {},
   "outputs": [
    {
     "name": "stderr",
     "output_type": "stream",
     "text": [
      "/Applications/anaconda3/lib/python3.6/site-packages/ipykernel_launcher.py:44: SettingWithCopyWarning: \n",
      "A value is trying to be set on a copy of a slice from a DataFrame\n",
      "\n",
      "See the caveats in the documentation: http://pandas.pydata.org/pandas-docs/stable/indexing.html#indexing-view-versus-copy\n"
     ]
    },
    {
     "name": "stdout",
     "output_type": "stream",
     "text": [
      "            Timestamp  current_year      faculty hs_average  \\\n",
      "0  11/8/2018 11:01:23             3  Engineering     85-89%   \n",
      "1  11/8/2018 11:01:46             3  Engineering     90-94%   \n",
      "2  11/8/2018 11:02:04             3  Engineering     85-89%   \n",
      "3  11/8/2018 11:04:36             3  Engineering     90-94%   \n",
      "4  11/8/2018 11:05:08             3  Engineering     85-89%   \n",
      "\n",
      "  nationality_status parent1_education parent2_education social_time  \\\n",
      "0           2nd+_Gen     Undergraduate           College         NaN   \n",
      "1           2nd+_Gen     Undergraduate     Undergraduate         NaN   \n",
      "2           2nd+_Gen     Undergraduate           College         NaN   \n",
      "3            1st_Gen           College     Undergraduate         NaN   \n",
      "4            1st_Gen     Post-Graduate     Post-Graduate         NaN   \n",
      "\n",
      "  class_attendance screen_time sleep_time excercise_time  \\\n",
      "0       Almost all   Regularly        NaN     2 - 3 days   \n",
      "1       Almost all   Regularly        NaN     2 - 3 days   \n",
      "2       Almost all   Regularly        NaN     2 - 3 days   \n",
      "3       Almost all         NaN        NaN      0 - 1 day   \n",
      "4       Almost all         NaN        NaN      0 - 1 day   \n",
      "\n",
      "            school_work_time coop_time academic_priority current_average  \n",
      "0          I usually keep up       NaN                No          70-74%  \n",
      "1          I usually keep up       NaN                No          70-74%  \n",
      "2          I usually keep up       NaN                No          70-74%  \n",
      "3  Only before a deliverable       NaN               Yes          80-84%  \n",
      "4          I usually keep up       NaN                No          75-79%  \n"
     ]
    }
   ],
   "source": [
    "import pandas as pd\n",
    "\n",
    "data = pd.read_csv('data.csv')\n",
    "\n",
    "column_dict = {\n",
    "    \"What year are you in?\": \"current_year\",\n",
    "    \"What faculty are you in?\": \"faculty\", \n",
    "    \"What was your high school average when you applied to the University of Waterloo?\": \"hs_average\",\n",
    "    \"What is your nationality status?\": \"nationality_status\",\n",
    "    \"What is the highest education level your parents have completed?  [Parent 1]\": \"parent1_education\",\n",
    "    \"What is the highest education level your parents have completed?  [Parent 2]\": \"parent2_education\",\n",
    "    \"On average, how much time do you spend per week participating in social activities during an academic term? (i.e. extracurricular activities, movies, eating out, bars, parties, hanging out, etc.)\": \"social_time\",\n",
    "    \"On average, what percentage of classes do you feel that you attend during an academic term? \": \"class_attendance\",\n",
    "    \"On average, excluding studying, how much time do you spend looking at a screen, during an academic term? (i.e. Phone, Laptop, TV, etc) \": \"screen_time\",\n",
    "    \"On average, how much sleep do you get per night during an academic term? \": \"sleep_time\",\n",
    "    \"On average, how many days do you exercise each week during an academic term?\": \"excercise_time\",\n",
    "    \"On average, how much time do you spend doing school work / studying on a given day during an academic term?\": \"school_work_time\",\n",
    "    \"In relation to school work, how much time do you spend on coop preparation during an academic term? (ie. applications. interview prep. practice, interviews, etc)\": \"coop_time\",\n",
    "    \"Is it a high priority for you to achieve an 80%+ average\": \"academic_priority\",\n",
    "    'What is your current cumulative average?': \"current_average\"\n",
    "}\n",
    "nationality_dict = {\n",
    "    'International (You are not a Canadian Citizen and are here on a Visa)':'Internationl',\n",
    "    '1st Generation Canadian Citizen (You were not born in Canada and You are a Canadian Citizen)':'1st_Gen',\n",
    "    '2nd+ Generation Canadian Citizen (You were born in Canada and you are a Canadian Citizen)':'2nd+_Gen'\n",
    "}\n",
    "sleep_dict = {\n",
    "    \"Not enough (I'm always tired)\":\"Not Enough\",\n",
    "    \"Enough (I'm rested most of the time)\":\"Enough\",\n",
    "    \"More than enough (I'm always well rested)\":\"More than Enough\"\n",
    "}\n",
    "sreen_dict = {\n",
    "    'Regularly, but not a significant amount':'Regularly',\n",
    "    \"I'm almost always looking at a screen\":'Almost Always'\n",
    "}\n",
    "coop_dict = {\n",
    "    'About the same if not more as school work':\"Same or More\",\n",
    "}\n",
    "social_dict = {\n",
    "    'Multiple days a week':'Multiple Weekly'\n",
    "}\n",
    "data = data.rename(index=str,columns = column_dict)\n",
    "for i in range(0,12):\n",
    "    data.faculty[i]='Engineering'\n",
    "data = data.drop(axis=1,columns=[\"Enter your email address OR phone number if you'd like to be entered for a chance to win 1 of 4 $20 amazon gift cards\"])\n",
    "data.nationality_status = data.nationality_status.map(nationality_dict)\n",
    "data.sleep_time = data.social_time.map(sleep_dict)\n",
    "data.social_time = data.social_time.map(social_dict)\n",
    "data.coop_time = data.coop_time.map(coop_dict)\n",
    "data.screen_time = data.screen_time.map(sreen_dict)\n",
    "print(data.head())\n",
    "\n",
    "\n",
    "\n",
    "\n"
   ]
  },
  {
   "cell_type": "code",
   "execution_count": null,
   "metadata": {},
   "outputs": [],
   "source": []
  },
  {
   "cell_type": "code",
   "execution_count": null,
   "metadata": {},
   "outputs": [],
   "source": []
  }
 ],
 "metadata": {
  "kernelspec": {
   "display_name": "Python 3",
   "language": "python",
   "name": "python3"
  },
  "language_info": {
   "codemirror_mode": {
    "name": "ipython",
    "version": 3
   },
   "file_extension": ".py",
   "mimetype": "text/x-python",
   "name": "python",
   "nbconvert_exporter": "python",
   "pygments_lexer": "ipython3",
   "version": "3.6.6"
  }
 },
 "nbformat": 4,
 "nbformat_minor": 2
}
