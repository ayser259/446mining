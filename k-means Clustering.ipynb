{
 "cells": [
  {
   "cell_type": "code",
   "execution_count": null,
   "metadata": {},
   "outputs": [],
   "source": [
    "#import libraries\n",
    "import pandas as pd\n",
    "import sys\n",
    "from sklearn import datasets\n",
    "import numpy as np\n",
    "from sklearn.cluster import KMeans\n",
    "import matplotlib.pyplot as plt\n",
    "import matplotlib\n",
    "from mpl_toolkits.mplot3d import Axes3D\n",
    "from data_load import merged_encoding"
   ]
  },
  {
   "cell_type": "code",
   "execution_count": null,
   "metadata": {},
   "outputs": [],
   "source": [
    "#import data\n",
    "\n",
    "encodedData = merged_encoding('data.csv',[],['current_year','social_time','excercise_time','nationality_status','parent1_education','parent2_education','class_attendance','screen_time',\n",
    "'sleep_time','school_work_time','coop_time','hs_average',\n",
    "'academic_priority'],drop_pref=True,)\n",
    "\n",
    "encodedData = encodedData.drop('current_average', axis=1)\n",
    "#print(encodedData)\n",
    "#encodedData.columns"
   ]
  },
  {
   "cell_type": "code",
   "execution_count": null,
   "metadata": {},
   "outputs": [],
   "source": [
    "# create PCA object. Project all variables onto a 2-D plane\n",
    "from sklearn.decomposition import PCA\n",
    "pc = PCA(n_components=2, whiten=True).fit_transform(encodedData)\n",
    "print(pc)\n",
    "pc.to_csv('dataIndexes')"
   ]
  },
  {
   "cell_type": "code",
   "execution_count": null,
   "metadata": {},
   "outputs": [],
   "source": [
    "# create kmeans object and call fit\n",
    "KM = KMeans(n_clusters=3)\n",
    "KM = KM.fit(pc)\n",
    "print(\"The cluster centroids are: \\n\", KM.cluster_centers_)\n",
    "print(\"Cluster_label:\\n\", KM.labels_)\n",
    "print(\"Sum of distances of samples to their closest cluster center: \\n\", KM.inertia_)"
   ]
  },
  {
   "cell_type": "code",
   "execution_count": null,
   "metadata": {},
   "outputs": [],
   "source": [
    "#create an array showing the mapping of data points to cluster\n",
    "data_cluster_mapping = KM.predict(pc)\n",
    "print(data_cluster_mapping)"
   ]
  },
  {
   "cell_type": "code",
   "execution_count": null,
   "metadata": {},
   "outputs": [],
   "source": [
    "#Plot clusters in scatter plot\n",
    "colors_3 = ['indigo','green','orange']\n",
    "plt.scatter(pc[:,0],pc[:,1],c=KM.labels_,cmap=matplotlib.colors.ListedColormap(colors_3))"
   ]
  },
  {
   "cell_type": "code",
   "execution_count": null,
   "metadata": {},
   "outputs": [],
   "source": [
    "#Elbow Method to find optimal k value\n",
    "Sum_of_squared_distances = []\n",
    "K = range(1,15)\n",
    "for k in K:\n",
    "    KM = KMeans(n_clusters=k)\n",
    "    KM = KM.fit(encodedData)\n",
    "    Sum_of_squared_distances.append(KM.inertia_)\n",
    "    \n",
    "plt.plot(K, Sum_of_squared_distances, 'bx-')\n",
    "plt.xlabel('k')\n",
    "plt.ylabel('Sum_of_squared_distances')\n",
    "plt.title('Elbow Method For Optimal k')\n",
    "plt.show()"
   ]
  },
  {
   "cell_type": "code",
   "execution_count": null,
   "metadata": {},
   "outputs": [],
   "source": [
    "#sample 10 data points from each cluster \n",
    "cluster1_sample = encodedData.iloc[[0,1,2,4,8,11,14,17,19,20]]\n",
    "cluster2_sample = encodedData.iloc[[6,9,10,12,13,15,18,21,22,23]]\n",
    "cluster3_sample = encodedData.iloc[[3,5,7,6,31,33,34,36,37,38]]"
   ]
  },
  {
   "cell_type": "code",
   "execution_count": null,
   "metadata": {},
   "outputs": [],
   "source": [
    "#Export cluster samples to csv for cluster analysis\n",
    "cluster1_sample.to_csv('cluster1.csv')\n",
    "cluster2_sample.to_csv('cluster2.csv')\n",
    "cluster3_sample.to_csv('cluster3.csv')"
   ]
  },
  {
   "cell_type": "code",
   "execution_count": null,
   "metadata": {},
   "outputs": [],
   "source": []
  }
 ],
 "metadata": {
  "kernelspec": {
   "display_name": "Python 3",
   "language": "python",
   "name": "python3"
  },
  "language_info": {
   "codemirror_mode": {
    "name": "ipython",
    "version": 3
   },
   "file_extension": ".py",
   "mimetype": "text/x-python",
   "name": "python",
   "nbconvert_exporter": "python",
   "pygments_lexer": "ipython3",
   "version": "3.7.0"
  }
 },
 "nbformat": 4,
 "nbformat_minor": 2
}
