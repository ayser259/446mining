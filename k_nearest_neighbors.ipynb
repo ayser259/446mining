{
 "cells": [
  {
   "cell_type": "code",
   "execution_count": 1,
   "metadata": {
    "collapsed": true,
    "scrolled": false
   },
   "outputs": [],
   "source": [
    "# import modules/packages\n",
    "import pandas as pd\n",
    "import numpy as np\n",
    "from sklearn import metrics\n",
    "from sklearn.neighbors import KNeighborsClassifier\n",
    "from sklearn.neighbors import KNeighborsRegressor\n",
    "from sklearn.model_selection import KFold, cross_val_score\n",
    "import matplotlib.pyplot as plt\n",
    "# import seaborn as sns"
   ]
  },
  {
   "cell_type": "code",
   "execution_count": 3,
   "metadata": {},
   "outputs": [
    {
     "name": "stdout",
     "output_type": "stream",
     "text": [
      "   extra_hours  grade attend_class\n",
      "0           40   42.6           No\n",
      "1           40   56.8          Yes\n",
      "2           60   68.0          Yes\n",
      "3           70   60.0           No\n",
      "4           80   69.5           No\n",
      "5           90   88.1          Yes\n",
      "6          100   80.4           No\n",
      "7          110   83.3          Yes\n",
      "8          120   75.8           No\n",
      "9          120   94.7          Yes\n"
     ]
    }
   ],
   "source": [
    "# load and clean data\n",
    "dataset = pd.read_csv('grades_dataset.csv')\n",
    "print(dataset)"
   ]
  },
  {
   "cell_type": "code",
   "execution_count": 4,
   "metadata": {},
   "outputs": [
    {
     "ename": "NameError",
     "evalue": "name 'sns' is not defined",
     "output_type": "error",
     "traceback": [
      "\u001b[0;31m---------------------------------------------------------------------------\u001b[0m",
      "\u001b[0;31mNameError\u001b[0m                                 Traceback (most recent call last)",
      "\u001b[0;32m<ipython-input-4-a069258c4a6a>\u001b[0m in \u001b[0;36m<module>\u001b[0;34m\u001b[0m\n\u001b[1;32m      1\u001b[0m \u001b[0;31m# visualize datapoints\u001b[0m\u001b[0;34m\u001b[0m\u001b[0;34m\u001b[0m\u001b[0;34m\u001b[0m\u001b[0m\n\u001b[0;32m----> 2\u001b[0;31m sns.pairplot(x_vars=[\"extra_hours\"], y_vars=[\"grade\"], data=dataset, hue=\"attend_class\", size=7,\n\u001b[0m\u001b[1;32m      3\u001b[0m             markers=[\"+\", \"o\"],plot_kws={\"s\": 100})\n\u001b[1;32m      4\u001b[0m \u001b[0mplt\u001b[0m\u001b[0;34m.\u001b[0m\u001b[0mshow\u001b[0m\u001b[0;34m(\u001b[0m\u001b[0;34m)\u001b[0m\u001b[0;34m\u001b[0m\u001b[0;34m\u001b[0m\u001b[0m\n",
      "\u001b[0;31mNameError\u001b[0m: name 'sns' is not defined"
     ]
    }
   ],
   "source": []
  },
  {
   "cell_type": "code",
   "execution_count": 8,
   "metadata": {},
   "outputs": [
    {
     "name": "stdout",
     "output_type": "stream",
     "text": [
      "[[ 40.   42.6]\n",
      " [ 40.   56.8]\n",
      " [ 60.   68. ]\n",
      " [ 70.   60. ]\n",
      " [ 80.   69.5]\n",
      " [ 90.   88.1]\n",
      " [100.   80.4]\n",
      " [110.   83.3]\n",
      " [120.   75.8]\n",
      " [120.   94.7]]\n",
      "10\n",
      "[[ 40.   42.6]\n",
      " [ 40.   56.8]\n",
      " [ 60.   68. ]\n",
      " [ 70.   60. ]\n",
      " [ 80.   69.5]\n",
      " [ 90.   88.1]\n",
      " [100.   80.4]\n",
      " [110.   83.3]\n",
      " [120.   75.8]\n",
      " [120.   94.7]]\n"
     ]
    }
   ],
   "source": [
    "# prepare datasets to be fed in the model\n",
    "# predict attend class given extra hours and grade\n",
    "CV =  dataset.attend_class.values.reshape((len(dataset.attend_class), ))\n",
    "\n",
    "print(dataset.loc[:,'extra_hours':'grade'].values)\n",
    "print((len(dataset.attend_class)))\n",
    "data = (dataset.loc[:,'extra_hours':'grade'].values).reshape((len(dataset.attend_class), 2))"
   ]
  },
  {
   "cell_type": "code",
   "execution_count": 5,
   "metadata": {
    "collapsed": true
   },
   "outputs": [],
   "source": [
    "# Create a KNN object\n",
    "KNN = KNeighborsClassifier(n_neighbors=3)"
   ]
  },
  {
   "cell_type": "code",
   "execution_count": 6,
   "metadata": {
    "scrolled": true
   },
   "outputs": [
    {
     "data": {
      "text/plain": [
       "KNeighborsClassifier(algorithm='auto', leaf_size=30, metric='minkowski',\n",
       "           metric_params=None, n_jobs=1, n_neighbors=3, p=2,\n",
       "           weights='uniform')"
      ]
     },
     "execution_count": 6,
     "metadata": {},
     "output_type": "execute_result"
    }
   ],
   "source": [
    "# Train the model using the training sets\n",
    "KNN.fit(data, CV)"
   ]
  },
  {
   "cell_type": "code",
   "execution_count": 7,
   "metadata": {},
   "outputs": [
    {
     "name": "stdout",
     "output_type": "stream",
     "text": [
      "Predictions: \n",
      " [['Yes']\n",
      " ['Yes']\n",
      " ['No']\n",
      " ['No']\n",
      " ['No']\n",
      " ['Yes']\n",
      " ['Yes']\n",
      " ['No']\n",
      " ['Yes']\n",
      " ['Yes']]\n"
     ]
    }
   ],
   "source": [
    "#predict the class for each data point\n",
    "predicted = KNN.predict(data)\n",
    "print(\"Predictions: \\n\", np.array([predicted]).T)"
   ]
  },
  {
   "cell_type": "code",
   "execution_count": 8,
   "metadata": {},
   "outputs": [
    {
     "name": "stdout",
     "output_type": "stream",
     "text": [
      "Probability of prediction: \n",
      " [[0.33333333 0.66666667]\n",
      " [0.33333333 0.66666667]\n",
      " [0.66666667 0.33333333]\n",
      " [0.66666667 0.33333333]\n",
      " [0.66666667 0.33333333]\n",
      " [0.33333333 0.66666667]\n",
      " [0.33333333 0.66666667]\n",
      " [0.66666667 0.33333333]\n",
      " [0.33333333 0.66666667]\n",
      " [0.33333333 0.66666667]]\n"
     ]
    }
   ],
   "source": [
    "# predict the probability/likelihood of the prediction\n",
    "print(\"Probability of prediction: \\n\",KNN.predict_proba(data))"
   ]
  },
  {
   "cell_type": "code",
   "execution_count": 9,
   "metadata": {},
   "outputs": [
    {
     "name": "stdout",
     "output_type": "stream",
     "text": [
      "Neighbors and their Distance: \n",
      " (array([[ 0.        , 14.2       , 32.32893441],\n",
      "       [ 0.        , 14.2       , 22.92247805],\n",
      "       [ 0.        , 12.80624847, 20.05617112],\n",
      "       [ 0.        , 12.80624847, 13.79311422],\n",
      "       [ 0.        , 13.79311422, 20.05617112],\n",
      "       [ 0.        , 12.62101422, 20.56793621],\n",
      "       [ 0.        , 10.41201229, 12.62101422],\n",
      "       [ 0.        , 10.41201229, 12.5       ],\n",
      "       [ 0.        , 12.5       , 18.9       ],\n",
      "       [ 0.        , 15.16443207, 18.9       ]]), array([[0, 1, 2],\n",
      "       [1, 0, 2],\n",
      "       [2, 3, 4],\n",
      "       [3, 2, 4],\n",
      "       [4, 3, 2],\n",
      "       [5, 6, 7],\n",
      "       [6, 7, 5],\n",
      "       [7, 6, 8],\n",
      "       [8, 7, 9],\n",
      "       [9, 7, 8]]))\n"
     ]
    }
   ],
   "source": [
    "print(\"Neighbors and their Distance: \\n\",KNN.kneighbors(data, return_distance=True))"
   ]
  },
  {
   "cell_type": "code",
   "execution_count": 10,
   "metadata": {},
   "outputs": [
    {
     "name": "stdout",
     "output_type": "stream",
     "text": [
      "Accuracy score for the model: \n",
      " 0.5\n"
     ]
    }
   ],
   "source": [
    "print(\"Accuracy score for the model: \\n\", KNN.score(data,CV))"
   ]
  },
  {
   "cell_type": "code",
   "execution_count": 11,
   "metadata": {},
   "outputs": [
    {
     "name": "stdout",
     "output_type": "stream",
     "text": [
      "[[3 2]\n",
      " [3 2]]\n"
     ]
    }
   ],
   "source": [
    "print(metrics.confusion_matrix(CV, predicted, labels=[\"Yes\",\"No\"]))"
   ]
  },
  {
   "cell_type": "code",
   "execution_count": 12,
   "metadata": {},
   "outputs": [
    {
     "name": "stdout",
     "output_type": "stream",
     "text": [
      "Accuracy of every fold in 5 fold cross validation:  [0.5 0.5 0.5 0.5 0.5]\n",
      "Mean of the 5 fold cross-validation: 0.50\n"
     ]
    }
   ],
   "source": [
    "# Calculating 5 fold cross validation results\n",
    "model = KNeighborsClassifier()\n",
    "kf = KFold(n_splits=5)\n",
    "scores = cross_val_score(model, data, CV, cv=kf)\n",
    "print(\"Accuracy of every fold in 5 fold cross validation: \", abs(scores))\n",
    "print(\"Mean of the 5 fold cross-validation: %0.2f\" % abs(scores.mean()))"
   ]
  },
  {
   "cell_type": "code",
   "execution_count": 13,
   "metadata": {},
   "outputs": [
    {
     "name": "stdout",
     "output_type": "stream",
     "text": [
      "Does he attend class, if he gets 60 after putting 100 hours of effort?\n",
      "  ['No'] \n",
      " [[0.66666667 0.33333333]] \n",
      " (array([[20.4       , 22.14158983, 25.35527559]]), array([[6, 4, 7]]))\n"
     ]
    }
   ],
   "source": [
    "datapoint = np.array([100,60]).reshape(1, -1)\n",
    "print(\"Does he attend class, if he gets 60 after putting 100 hours of effort?\\n \",\n",
    "      KNN.predict(datapoint),'\\n' ,KNN.predict_proba(datapoint), '\\n' ,KNN.kneighbors(datapoint))"
   ]
  },
  {
   "cell_type": "markdown",
   "metadata": {},
   "source": [
    "### try different k"
   ]
  },
  {
   "cell_type": "code",
   "execution_count": 14,
   "metadata": {},
   "outputs": [
    {
     "name": "stdout",
     "output_type": "stream",
     "text": [
      "Accuracy score for the model: 1.0\n",
      "Accuracy of every fold in 5 fold cross validation:  [0.5 0.5 0.5 0.  0.5]\n",
      "Mean of the 5 fold cross-validation: 0.40\n"
     ]
    }
   ],
   "source": [
    "KNN_1 = KNeighborsClassifier(n_neighbors=1)\n",
    "KNN_1.fit(data, CV)\n",
    "print(\"Accuracy score for the model:\", KNN_1.score(data,CV))\n",
    "scores = cross_val_score(KNN_1, data, CV, cv=KFold(n_splits=5))\n",
    "print(\"Accuracy of every fold in 5 fold cross validation: \", abs(scores))\n",
    "print(\"Mean of the 5 fold cross-validation: %0.2f\" % abs(scores.mean()))"
   ]
  },
  {
   "cell_type": "code",
   "execution_count": 15,
   "metadata": {},
   "outputs": [
    {
     "name": "stdout",
     "output_type": "stream",
     "text": [
      "Accuracy score for the model: 0.6\n",
      "Accuracy of every fold in 5 fold cross validation:  [0.5 0.5 0.5 0.5 0.5]\n",
      "Mean of the 5 fold cross-validation: 0.50\n"
     ]
    }
   ],
   "source": [
    "KNN_2 = KNeighborsClassifier(n_neighbors=2)\n",
    "KNN_2.fit(data, CV)\n",
    "print(\"Accuracy score for the model:\", KNN_2.score(data,CV))\n",
    "scores = cross_val_score(KNN_2, data, CV, cv=KFold(n_splits=5))\n",
    "print(\"Accuracy of every fold in 5 fold cross validation: \", abs(scores))\n",
    "print(\"Mean of the 5 fold cross-validation: %0.2f\" % abs(scores.mean()))"
   ]
  },
  {
   "cell_type": "code",
   "execution_count": 16,
   "metadata": {},
   "outputs": [
    {
     "name": "stdout",
     "output_type": "stream",
     "text": [
      "Accuracy score for the model: 0.5\n",
      "Accuracy of every fold in 5 fold cross validation:  [0.5 0.5 0.5 0.5 0.5]\n",
      "Mean of the 5 fold cross-validation: 0.50\n"
     ]
    }
   ],
   "source": [
    "KNN_4 = KNeighborsClassifier(n_neighbors=4)\n",
    "KNN_4.fit(data, CV)\n",
    "print(\"Accuracy score for the model:\", KNN_4.score(data,CV))\n",
    "scores = cross_val_score(KNN_4, data, CV, cv=KFold(n_splits=5))\n",
    "print(\"Accuracy of every fold in 5 fold cross validation: \", abs(scores))\n",
    "print(\"Mean of the 5 fold cross-validation: %0.2f\" % abs(scores.mean()))"
   ]
  },
  {
   "cell_type": "code",
   "execution_count": 17,
   "metadata": {},
   "outputs": [
    {
     "name": "stdout",
     "output_type": "stream",
     "text": [
      "Accuracy score for the model: 0.5\n",
      "Accuracy of every fold in 5 fold cross validation:  [0.5 0.5 0.5 0.5 0.5]\n",
      "Mean of the 5 fold cross-validation: 0.50\n"
     ]
    }
   ],
   "source": [
    "KNN_10 = KNeighborsClassifier(n_neighbors=6)\n",
    "KNN_10.fit(data, CV)\n",
    "print(\"Accuracy score for the model:\", KNN_10.score(data,CV))\n",
    "scores = cross_val_score(KNN_10, data, CV, cv=KFold(n_splits=5))\n",
    "print(\"Accuracy of every fold in 5 fold cross validation: \", abs(scores))\n",
    "print(\"Mean of the 5 fold cross-validation: %0.2f\" % abs(scores.mean()))"
   ]
  }
 ],
 "metadata": {
  "kernelspec": {
   "display_name": "Python 3",
   "language": "python",
   "name": "python3"
  },
  "language_info": {
   "codemirror_mode": {
    "name": "ipython",
    "version": 3
   },
   "file_extension": ".py",
   "mimetype": "text/x-python",
   "name": "python",
   "nbconvert_exporter": "python",
   "pygments_lexer": "ipython3",
   "version": "3.7.1"
  }
 },
 "nbformat": 4,
 "nbformat_minor": 2
}
